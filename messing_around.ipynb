{
 "cells": [
  {
   "cell_type": "code",
   "execution_count": 13,
   "metadata": {},
   "outputs": [],
   "source": [
    "# Trying to fix the range doppler stuff in here\n",
    "\n",
    "import h5py\n",
    "import numpy as np\n",
    "import matplotlib.pyplot as plt\n",
    "from scipy.fft import fft, fftshift # Might not need this\n",
    "from radar_ffts import range_doppler_fft, range_doppler_sum\n",
    "from cfar import cfar, clean_cfar\n",
    "from radar_functions import get_measurement_parameters, cfar_map, save_range_doppler_map, save_cfar_map, get_data_files\n",
    "\n",
    "c = 299792458 # metres per second - need this"
   ]
  },
  {
   "cell_type": "code",
   "execution_count": 14,
   "metadata": {},
   "outputs": [
    {
     "name": "stdout",
     "output_type": "stream",
     "text": [
      "float64\n"
     ]
    }
   ],
   "source": [
    "session2_preface = '../4022S_data/session2/'\n",
    "\n",
    "tennis_ball_tests = get_data_files(session2_preface) #just using this test\n",
    "walking_away_test = h5py.File('../4022S_data/undergrad_testset/Experiment_moving_target_back_data.hdf5', 'r')\n",
    "\n",
    "range_bin_size = 0.1953138069708251\n",
    "\n",
    "\n",
    "frame_data = walking_away_test[f'Sensors/TI_Radar/Data/Frame_5/frame_data']\n",
    "fftd_frame_data = range_doppler_fft(frame_data, 0, 0)\n",
    "\n",
    "\n",
    "\n",
    "plotted_fftd_frame_data = range_doppler_sum(fftd_frame_data)\n",
    "print(plotted_fftd_frame_data.dtype)"
   ]
  },
  {
   "cell_type": "code",
   "execution_count": 15,
   "metadata": {},
   "outputs": [],
   "source": [
    "def make_map(plotted_fftd_frame_data, range_bin_size):\n",
    "    plt.figure()\n",
    "    plt.imshow(plotted_fftd_frame_data, aspect='auto', cmap='jet')\n",
    "    plt.title('Range-Doppler Map')\n",
    "    plt.xlabel('Doppler')\n",
    "    plt.ylabel('Range')\n",
    "    plt.colorbar(label='Power (dB)')\n",
    "    # Get current y-ticks and labels\n",
    "    y_ticks = plt.gca().get_yticks()\n",
    "    plt.gca().set_yticklabels(y_ticks[::1]*range_bin_size) #TODO: Figure out how to relabel the data, not just the ticks\n",
    "    plt.show()\n",
    "\n",
    "def range_doppler_map(hdf5_file_path, frame, range_bin_size, make_map): # This started as a clone from radar_functions\n",
    "    \n",
    "    \"\"\"Generates a range doppler map of hdf5 radar data. Can generate a plot (make_map = 1) or just the data (make_map = 0)\n",
    "        -> make_map = 1 plots the heatmap, heat_map = 0 skips it\n",
    "        -> save_map = 1 saves the map as a png, save_map = 0 skips it\"\"\"\n",
    "    \n",
    "    frame_data = hdf5_file_path[f'Sensors/TI_Radar/Data/Frame_{frame}/frame_data']\n",
    "    range_pad = 0\n",
    "    doppler_pad = 0\n",
    "\n",
    "    fftd_frame_data = range_doppler_fft(frame_data, range_pad, doppler_pad)\n",
    "    plotted_fftd_frame_data = range_doppler_sum(fftd_frame_data)\n",
    "    plotted_fftd_frame_data=np.flip(plotted_fftd_frame_data, 0)\n",
    "\n",
    "    if make_map:\n",
    "        make_map(plotted_fftd_frame_data, range_bin_size)\n",
    "        \n",
    "    return plotted_fftd_frame_data"
   ]
  },
  {
   "cell_type": "code",
   "execution_count": 17,
   "metadata": {},
   "outputs": [
    {
     "ename": "TypeError",
     "evalue": "'bool' object is not callable",
     "output_type": "error",
     "traceback": [
      "\u001b[1;31m---------------------------------------------------------------------------\u001b[0m",
      "\u001b[1;31mTypeError\u001b[0m                                 Traceback (most recent call last)",
      "Cell \u001b[1;32mIn[17], line 1\u001b[0m\n\u001b[1;32m----> 1\u001b[0m \u001b[43mrange_doppler_map\u001b[49m\u001b[43m(\u001b[49m\u001b[43mtennis_ball_tests\u001b[49m\u001b[43m[\u001b[49m\u001b[38;5;241;43m0\u001b[39;49m\u001b[43m]\u001b[49m\u001b[43m,\u001b[49m\u001b[43m \u001b[49m\u001b[38;5;241;43m6\u001b[39;49m\u001b[43m,\u001b[49m\u001b[43m \u001b[49m\u001b[38;5;241;43m1\u001b[39;49m\u001b[43m,\u001b[49m\u001b[43m \u001b[49m\u001b[38;5;28;43;01mTrue\u001b[39;49;00m\u001b[43m)\u001b[49m\n",
      "Cell \u001b[1;32mIn[15], line 28\u001b[0m, in \u001b[0;36mrange_doppler_map\u001b[1;34m(hdf5_file_path, frame, range_bin_size, make_map)\u001b[0m\n\u001b[0;32m     25\u001b[0m plotted_fftd_frame_data\u001b[38;5;241m=\u001b[39mnp\u001b[38;5;241m.\u001b[39mflip(plotted_fftd_frame_data, \u001b[38;5;241m0\u001b[39m)\n\u001b[0;32m     27\u001b[0m \u001b[38;5;28;01mif\u001b[39;00m make_map:\n\u001b[1;32m---> 28\u001b[0m     \u001b[43mmake_map\u001b[49m\u001b[43m(\u001b[49m\u001b[43mplotted_fftd_frame_data\u001b[49m\u001b[43m,\u001b[49m\u001b[43m \u001b[49m\u001b[43mrange_bin_size\u001b[49m\u001b[43m)\u001b[49m\n\u001b[0;32m     30\u001b[0m \u001b[38;5;28;01mreturn\u001b[39;00m plotted_fftd_frame_data\n",
      "\u001b[1;31mTypeError\u001b[0m: 'bool' object is not callable"
     ]
    }
   ],
   "source": [
    "range_doppler_map(tennis_ball_tests[0], 6, 1, True)"
   ]
  }
 ],
 "metadata": {
  "kernelspec": {
   "display_name": "Python 3",
   "language": "python",
   "name": "python3"
  },
  "language_info": {
   "codemirror_mode": {
    "name": "ipython",
    "version": 3
   },
   "file_extension": ".py",
   "mimetype": "text/x-python",
   "name": "python",
   "nbconvert_exporter": "python",
   "pygments_lexer": "ipython3",
   "version": "3.12.2"
  }
 },
 "nbformat": 4,
 "nbformat_minor": 2
}
