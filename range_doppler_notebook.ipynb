{
 "cells": [
  {
   "cell_type": "code",
   "execution_count": null,
   "metadata": {},
   "outputs": [],
   "source": [
    "# First attempts at getting a range-doppler map of collected hdf5 data.\n",
    "# TODO: \n",
    "\n",
    "\n",
    "import h5py\n",
    "import numpy as np\n",
    "import matplotlib.pyplot as plt\n",
    "from scipy.fft import fft, fftshift # Might not need this\n",
    "from radar_ffts import range_doppler_fft, range_doppler_sum\n",
    "from cfar import cfar, clean_cfar\n",
    "from radar_functions import get_measurement_parameters, range_doppler_map\n",
    "import os\n",
    "\n",
    "c = 299792458 # metres per second - need this\n"
   ]
  },
  {
   "cell_type": "code",
   "execution_count": null,
   "metadata": {},
   "outputs": [],
   "source": [
    "moving_back_test = h5py.File('../4022S_data/undergrad_testset/Experiment_moving_target_back_data.hdf5', 'r') # Read in the file\n",
    "one_meter_centre_test = h5py.File('../4022S_data/undergrad_testset/Experiment_stationary_target_1m_1_data.hdf5','r')\n",
    "two_meter_centre_test = h5py.File('../4022S_data/undergrad_testset/Experiment_stationary_target_2m_1_data.hdf5','r')\n",
    "initial_slow_test_1 = h5py.File('../4022S_data/golfball_testset1/Experiment_2024-09-13_14-13-34_932_initialgolftest_slow.hdf5')\n",
    "initial_slow_test_6 = h5py.File('../4022S_data/golfball_testset1/Experiment_2024-09-13_14-15-40_120_initialgolftest_slow.hdf5')\n",
    "initial_fast_test_5 = h5py.File('../4022S_data/golfball_testset1/Experiment_2024-09-13_14-19-20_774_initialgolftest_fast.hdf5')\n",
    "\n",
    "test_in_question = initial_fast_test_5  \n",
    "\n",
    "freq_slope_const, number_of_samples_per_chirp, sample_rate, Tdata, bandwidth, range_bin_size = get_measurement_parameters(test_in_question)\n",
    "range_doppler_data = range_doppler_map(test_in_question, '6', range_bin_size, 1)\n",
    "\n",
    "print(range_bin_size)\n",
    "print(range_doppler_data.shape)"
   ]
  },
  {
   "cell_type": "code",
   "execution_count": null,
   "metadata": {},
   "outputs": [],
   "source": [
    "# Trying a homemade range-doppler map - can ignore this\n",
    "target_frame = 'Sensors/TI_Radar/Data/Frame_10'\n",
    "frame_data = test_in_question[f'{target_frame}/frame_data']#[:,:,0]\n",
    "\n",
    "\n",
    "# Not really sure what Im doing here that doesnt let me do it on one frame?\n",
    "# Cant remember what I was doing when I wrote this\n",
    "window = np.tile(np.hanning(frame_data.shape[1])[np.newaxis, :, np.newaxis], (frame_data.shape[0], 1, frame_data.shape[2]))\n",
    "\n",
    "\n",
    "after_fast_time_fft = fft(window[:,:,0]*frame_data[:,:,0],frame_data.shape[0],0)\n",
    "after_slow_time_fft = fftshift(fft(after_fast_time_fft, after_fast_time_fft.shape[1],1))\n",
    "\n",
    "#Normalize to dB\n",
    "\n",
    "range_doppler_map_diy = np.rot90(20 * np.log10(np.abs(after_slow_time_fft)), 3)\n",
    "\n",
    "plt.figure()\n",
    "plt.imshow(range_doppler_map_diy, aspect='auto', cmap='jet')\n",
    "#plt.imshow(20 * np.log10(np.abs(after_slow_time_fft)), aspect='auto', cmap='jet')\n",
    "plt.title('Range-Doppler Map')\n",
    "x_ticks = plt.gca().get_xticks()\n",
    "plt.gca().set_xticklabels(x_ticks[::1]*range_bin_size)  # TODO: Copied this from the above version\n",
    "                                                        # need to cut off the labels\n",
    "plt.xlabel('Range')\n",
    "plt.ylabel('Doppler')\n",
    "plt.colorbar(label='Power (dB)')\n",
    "plt.show()\n"
   ]
  },
  {
   "cell_type": "code",
   "execution_count": null,
   "metadata": {},
   "outputs": [],
   "source": [
    "#cfar_output = cfar(np.abs(after_slow_time_fft), 15, 5, 15, 5, 1e-5,0) # TODO inspect and see how to determine this\n",
    "cfar_output = cfar((10**(range_doppler_data/20)), 3, 3, 2, 2, 1e-4,0)\n",
    "\n",
    "plt.figure()\n",
    "plt.imshow(cfar_output, aspect='auto', cmap='jet')\n",
    "#plt.imshow(20 * np.log10(np.abs(after_slow_time_fft)), aspect='auto', cmap='jet')\n",
    "plt.title('CFAR Map')\n",
    "\n",
    "plt.xlabel('Doppler')\n",
    "plt.ylabel('Range')\n",
    "plt.colorbar(label='Power (dB)')\n",
    "\n",
    "plt.show()\n",
    "\n",
    "#TODO:  Spectrogram gen: dont use inbuilt\n",
    "#       Do from 1st prince\n",
    "#TODO:  Velocity resolution typically 1/observation_period"
   ]
  },
  {
   "cell_type": "code",
   "execution_count": null,
   "metadata": {},
   "outputs": [],
   "source": [
    "cfar_map"
   ]
  }
 ],
 "metadata": {
  "kernelspec": {
   "display_name": "base",
   "language": "python",
   "name": "python3"
  },
  "language_info": {
   "codemirror_mode": {
    "name": "ipython",
    "version": 3
   },
   "file_extension": ".py",
   "mimetype": "text/x-python",
   "name": "python",
   "nbconvert_exporter": "python",
   "pygments_lexer": "ipython3",
   "version": "3.12.6"
  }
 },
 "nbformat": 4,
 "nbformat_minor": 2
}
