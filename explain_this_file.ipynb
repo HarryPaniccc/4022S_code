{
 "cells": [
  {
   "cell_type": "code",
   "execution_count": 5,
   "metadata": {},
   "outputs": [],
   "source": [
    "# This code just analyzes some of the hdf5 stuff and lets you poke around a bit\n",
    "# Original is explain_this_file.py but decided notebooks are probably better\n",
    "import h5py\n",
    "import numpy as np\n",
    "from scipy.fft import fft, ifft, fftfreq\n",
    "import matplotlib.pyplot as plt\n",
    "\n",
    "# TRY keep consistent path relations. Just put them in 4022S_data\n",
    "# Relative path starts with \"../4022S_data/undergrad_testset/\" followed by filename\n",
    "#f = h5py.File('../4022S_data/undergrad_testset/Experiment_moving_target_back_data.hdf5')\n",
    "f = h5py.File('../4022S_data/golfball_testset1/Experiment_2024-09-13_14-15-40_120_initialgolftest_slow.hdf5')"
   ]
  },
  {
   "cell_type": "code",
   "execution_count": 6,
   "metadata": {},
   "outputs": [
    {
     "name": "stdout",
     "output_type": "stream",
     "text": [
      "['Comments', 'Sensors']\n",
      "/Sensors\n"
     ]
    }
   ],
   "source": [
    "# Experimentations about starting information of the file.\n",
    "\n",
    "print(list(f.keys()))   #h5py.File works like a python dictionary\n",
    "                        #we can check the keys\n",
    "\n",
    "sensor_dataset = f['Sensors']\n",
    "\n",
    "# calling \"sensor_dataset.shape\" in terminal bounces an error because it is a group \n",
    "# in the hierarchy, not an actual dataset\n",
    "\n",
    "print(sensor_dataset.name) # is the name of whats in sensor_dataset"
   ]
  },
  {
   "cell_type": "code",
   "execution_count": 7,
   "metadata": {},
   "outputs": [
    {
     "name": "stdout",
     "output_type": "stream",
     "text": [
      "This is everything in here\n",
      "_______________________________________________\n",
      "Comments\n",
      "Comments/experiment_setup\n",
      "Comments/sensor_list\n",
      "Sensors\n",
      "Sensors/TI_Radar\n",
      "Sensors/TI_Radar/Data\n",
      "Sensors/TI_Radar/Data/Frame_0\n",
      "Sensors/TI_Radar/Data/Frame_0/Timestamps\n",
      "Sensors/TI_Radar/Data/Frame_0/Timestamps/nano_seconds\n",
      "Sensors/TI_Radar/Data/Frame_0/Timestamps/seconds\n",
      "Sensors/TI_Radar/Data/Frame_0/frame_data\n",
      "Sensors/TI_Radar/Data/Frame_1\n",
      "Sensors/TI_Radar/Data/Frame_1/Timestamps\n",
      "Sensors/TI_Radar/Data/Frame_1/Timestamps/nano_seconds\n",
      "Sensors/TI_Radar/Data/Frame_1/Timestamps/seconds\n",
      "Sensors/TI_Radar/Data/Frame_1/frame_data\n",
      "Sensors/TI_Radar/Data/Frame_10\n",
      "Sensors/TI_Radar/Data/Frame_10/Timestamps\n",
      "Sensors/TI_Radar/Data/Frame_10/Timestamps/nano_seconds\n",
      "Sensors/TI_Radar/Data/Frame_10/Timestamps/seconds\n",
      "Sensors/TI_Radar/Data/Frame_10/frame_data\n",
      "Sensors/TI_Radar/Data/Frame_2\n",
      "Sensors/TI_Radar/Data/Frame_2/Timestamps\n",
      "Sensors/TI_Radar/Data/Frame_2/Timestamps/nano_seconds\n",
      "Sensors/TI_Radar/Data/Frame_2/Timestamps/seconds\n",
      "Sensors/TI_Radar/Data/Frame_2/frame_data\n",
      "Sensors/TI_Radar/Data/Frame_3\n",
      "Sensors/TI_Radar/Data/Frame_3/Timestamps\n",
      "Sensors/TI_Radar/Data/Frame_3/Timestamps/nano_seconds\n",
      "Sensors/TI_Radar/Data/Frame_3/Timestamps/seconds\n",
      "Sensors/TI_Radar/Data/Frame_3/frame_data\n",
      "Sensors/TI_Radar/Data/Frame_4\n",
      "Sensors/TI_Radar/Data/Frame_4/Timestamps\n",
      "Sensors/TI_Radar/Data/Frame_4/Timestamps/nano_seconds\n",
      "Sensors/TI_Radar/Data/Frame_4/Timestamps/seconds\n",
      "Sensors/TI_Radar/Data/Frame_4/frame_data\n",
      "Sensors/TI_Radar/Data/Frame_5\n",
      "Sensors/TI_Radar/Data/Frame_5/Timestamps\n",
      "Sensors/TI_Radar/Data/Frame_5/Timestamps/nano_seconds\n",
      "Sensors/TI_Radar/Data/Frame_5/Timestamps/seconds\n",
      "Sensors/TI_Radar/Data/Frame_5/frame_data\n",
      "Sensors/TI_Radar/Data/Frame_6\n",
      "Sensors/TI_Radar/Data/Frame_6/Timestamps\n",
      "Sensors/TI_Radar/Data/Frame_6/Timestamps/nano_seconds\n",
      "Sensors/TI_Radar/Data/Frame_6/Timestamps/seconds\n",
      "Sensors/TI_Radar/Data/Frame_6/frame_data\n",
      "Sensors/TI_Radar/Data/Frame_7\n",
      "Sensors/TI_Radar/Data/Frame_7/Timestamps\n",
      "Sensors/TI_Radar/Data/Frame_7/Timestamps/nano_seconds\n",
      "Sensors/TI_Radar/Data/Frame_7/Timestamps/seconds\n",
      "Sensors/TI_Radar/Data/Frame_7/frame_data\n",
      "Sensors/TI_Radar/Data/Frame_8\n",
      "Sensors/TI_Radar/Data/Frame_8/Timestamps\n",
      "Sensors/TI_Radar/Data/Frame_8/Timestamps/nano_seconds\n",
      "Sensors/TI_Radar/Data/Frame_8/Timestamps/seconds\n",
      "Sensors/TI_Radar/Data/Frame_8/frame_data\n",
      "Sensors/TI_Radar/Data/Frame_9\n",
      "Sensors/TI_Radar/Data/Frame_9/Timestamps\n",
      "Sensors/TI_Radar/Data/Frame_9/Timestamps/nano_seconds\n",
      "Sensors/TI_Radar/Data/Frame_9/Timestamps/seconds\n",
      "Sensors/TI_Radar/Data/Frame_9/frame_data\n",
      "Sensors/TI_Radar/Parameters\n",
      "Sensors/TI_Radar/Parameters/adcCfg\n",
      "Sensors/TI_Radar/Parameters/adcCfg/adcOutputFmt\n",
      "Sensors/TI_Radar/Parameters/adcCfg/numADCBits\n",
      "Sensors/TI_Radar/Parameters/adcbufCfg\n",
      "Sensors/TI_Radar/Parameters/adcbufCfg/SampleSwap\n",
      "Sensors/TI_Radar/Parameters/adcbufCfg/adcOutputFmt\n",
      "Sensors/TI_Radar/Parameters/adcbufCfg/chanInterleave\n",
      "Sensors/TI_Radar/Parameters/adcbufCfg/chirpThreshold\n",
      "Sensors/TI_Radar/Parameters/adcbufCfg/subFrameIdx\n",
      "Sensors/TI_Radar/Parameters/calibMonCfg\n",
      "Sensors/TI_Radar/Parameters/calibMonCfg/calibMonTimeUnit\n",
      "Sensors/TI_Radar/Parameters/calibMonCfg/calibPeriodicity\n",
      "Sensors/TI_Radar/Parameters/channelCfg\n",
      "Sensors/TI_Radar/Parameters/channelCfg/casMode\n",
      "Sensors/TI_Radar/Parameters/channelCfg/rxChannelEn\n",
      "Sensors/TI_Radar/Parameters/channelCfg/txChannelEn\n",
      "Sensors/TI_Radar/Parameters/chirpCfg_0\n",
      "Sensors/TI_Radar/Parameters/chirpCfg_0/ADCStartTimeVar\n",
      "Sensors/TI_Radar/Parameters/chirpCfg_0/chirpAntennaEnMask\n",
      "Sensors/TI_Radar/Parameters/chirpCfg_0/chirpEndIndex\n",
      "Sensors/TI_Radar/Parameters/chirpCfg_0/chirpStartIndex\n",
      "Sensors/TI_Radar/Parameters/chirpCfg_0/freqSlopeVar\n",
      "Sensors/TI_Radar/Parameters/chirpCfg_0/idleTimeVar\n",
      "Sensors/TI_Radar/Parameters/chirpCfg_0/profileId\n",
      "Sensors/TI_Radar/Parameters/chirpCfg_0/startFreqVar\n",
      "Sensors/TI_Radar/Parameters/chirpCfg_1\n",
      "Sensors/TI_Radar/Parameters/chirpCfg_1/ADCStartTimeVar\n",
      "Sensors/TI_Radar/Parameters/chirpCfg_1/chirpAntennaEnMask\n",
      "Sensors/TI_Radar/Parameters/chirpCfg_1/chirpEndIndex\n",
      "Sensors/TI_Radar/Parameters/chirpCfg_1/chirpStartIndex\n",
      "Sensors/TI_Radar/Parameters/chirpCfg_1/freqSlopeVar\n",
      "Sensors/TI_Radar/Parameters/chirpCfg_1/idleTimeVar\n",
      "Sensors/TI_Radar/Parameters/chirpCfg_1/profileId\n",
      "Sensors/TI_Radar/Parameters/chirpCfg_1/startFreqVar\n",
      "Sensors/TI_Radar/Parameters/chirpCfg_2\n",
      "Sensors/TI_Radar/Parameters/chirpCfg_2/ADCStartTimeVar\n",
      "Sensors/TI_Radar/Parameters/chirpCfg_2/chirpAntennaEnMask\n",
      "Sensors/TI_Radar/Parameters/chirpCfg_2/chirpEndIndex\n",
      "Sensors/TI_Radar/Parameters/chirpCfg_2/chirpStartIndex\n",
      "Sensors/TI_Radar/Parameters/chirpCfg_2/freqSlopeVar\n",
      "Sensors/TI_Radar/Parameters/chirpCfg_2/idleTimeVar\n",
      "Sensors/TI_Radar/Parameters/chirpCfg_2/profileId\n",
      "Sensors/TI_Radar/Parameters/chirpCfg_2/startFreqVar\n",
      "Sensors/TI_Radar/Parameters/dfeDataOutputMode\n",
      "Sensors/TI_Radar/Parameters/dfeDataOutputMode/frmMode\n",
      "Sensors/TI_Radar/Parameters/frameCfg\n",
      "Sensors/TI_Radar/Parameters/frameCfg/chirpEndIndex\n",
      "Sensors/TI_Radar/Parameters/frameCfg/chirpStartIndex\n",
      "Sensors/TI_Radar/Parameters/frameCfg/framePeriod\n",
      "Sensors/TI_Radar/Parameters/frameCfg/frameTriggerDelay\n",
      "Sensors/TI_Radar/Parameters/frameCfg/numChirps\n",
      "Sensors/TI_Radar/Parameters/frameCfg/numFrames\n",
      "Sensors/TI_Radar/Parameters/frameCfg/triggerSelect\n",
      "Sensors/TI_Radar/Parameters/lowPower\n",
      "Sensors/TI_Radar/Parameters/lowPower/adcMode\n",
      "Sensors/TI_Radar/Parameters/lowPower/dontCare\n",
      "Sensors/TI_Radar/Parameters/lvdsStreamCfg\n",
      "Sensors/TI_Radar/Parameters/lvdsStreamCfg/dataFmt\n",
      "Sensors/TI_Radar/Parameters/lvdsStreamCfg/enableHeader\n",
      "Sensors/TI_Radar/Parameters/lvdsStreamCfg/enableSW\n",
      "Sensors/TI_Radar/Parameters/lvdsStreamCfg/subFrameIdx \n",
      "Sensors/TI_Radar/Parameters/profileCfg\n",
      "Sensors/TI_Radar/Parameters/profileCfg/adcStartTime\n",
      "Sensors/TI_Radar/Parameters/profileCfg/digOutSampleRate\n",
      "Sensors/TI_Radar/Parameters/profileCfg/freqSlopeConst\n",
      "Sensors/TI_Radar/Parameters/profileCfg/hpfCornerFreq1\n",
      "Sensors/TI_Radar/Parameters/profileCfg/hpfCornerFreq2\n",
      "Sensors/TI_Radar/Parameters/profileCfg/idleTime\n",
      "Sensors/TI_Radar/Parameters/profileCfg/numAdcSamples\n",
      "Sensors/TI_Radar/Parameters/profileCfg/profileId\n",
      "Sensors/TI_Radar/Parameters/profileCfg/rampEndTime\n",
      "Sensors/TI_Radar/Parameters/profileCfg/rxGain\n",
      "Sensors/TI_Radar/Parameters/profileCfg/startFreq\n",
      "Sensors/TI_Radar/Parameters/profileCfg/txOutPower\n",
      "Sensors/TI_Radar/Parameters/profileCfg/txPhaseShifter\n",
      "Sensors/TI_Radar/Parameters/profileCfg/txStartTime\n",
      "Sensors/TI_Radar/Parameters/sorted_data\n"
     ]
    }
   ],
   "source": [
    "print(\"This is everything in here\\n_______________________________________________\")\n",
    "def printname(name):\n",
    "    print(name)\n",
    "#f.visit(printname) # This will print all of the hierarcies and files in the file\n",
    "\n",
    "display_all = input(\"Do you want to skip the blurb [y/N]?\\n\")\n",
    "\n",
    "if display_all == \"n\" or display_all == \"N\":\n",
    "    f.visit(printname)\n",
    "\n",
    "# until this point, everything is from https://docs.h5py.org/en/stable/quick.html#quick\n",
    "# looking now at https://docs.h5py.org/en/stable/high/group.html#group"
   ]
  },
  {
   "cell_type": "code",
   "execution_count": 8,
   "metadata": {},
   "outputs": [
    {
     "name": "stdout",
     "output_type": "stream",
     "text": [
      "Tdata = 1.28e-05 seconds\n",
      "B = 1024.0 MHz\n"
     ]
    }
   ],
   "source": [
    "# Messing with measurement parameters\n",
    "\n",
    "freq_slope_const = f['Sensors/TI_Radar/Parameters/profileCfg/freqSlopeConst'][()] # In MHz per microsecond\n",
    "chirp_start_index = f['Sensors/TI_Radar/Parameters/frameCfg/chirpStartIndex'][()]\n",
    "chirp_end_index = f['Sensors/TI_Radar/Parameters/frameCfg/chirpEndIndex'][()]\n",
    "frame_period = f['Sensors/TI_Radar/Parameters/frameCfg/framePeriod'][()]\n",
    "ramp_end_time = f['Sensors/TI_Radar/Parameters/profileCfg/rampEndTime'][()]\n",
    "start_freq = f['Sensors/TI_Radar/Parameters/profileCfg/startFreq'][()]\n",
    "number_of_samples_per_chirp = f['Sensors/TI_Radar/Parameters/profileCfg/numAdcSamples'][()]\n",
    "kilo_samples_per_second = f['Sensors/TI_Radar/Parameters/profileCfg/digOutSampleRate'][()] # in ks per second\n",
    "c = 299792458 # metres per second\n",
    "\n",
    "# Want to calculate Tsweep\n",
    "# freq_slope / (chirp_end_index - chirp_start_index)\n",
    "\n",
    "#print(number_of_samples_per_chirp)\n",
    "#print(sample_rate)\n",
    "Tdata = number_of_samples_per_chirp * 1/(kilo_samples_per_second*1000)\n",
    "print(f'Tdata = {Tdata} seconds')\n",
    "# From this we can find bandwidth with B = Tdata * frequency_slope_constant\n",
    "bandwidth = Tdata * freq_slope_const * 1e6 # This leaves it in MHz\n",
    "print(f'B = {bandwidth} MHz')"
   ]
  },
  {
   "cell_type": "code",
   "execution_count": 9,
   "metadata": {},
   "outputs": [
    {
     "name": "stdout",
     "output_type": "stream",
     "text": [
      "complex64\n",
      "[ 204.+453.j  221.+487.j  292.+279.j  -13.+147.j   74.+350.j  170.+800.j\n",
      "  452.+235.j  100. -27.j -329.+652.j  246.+418.j  420.+201.j -112.+494.j\n",
      "  188.+440.j  168.+486.j   47.+269.j  -60.+343.j  -42.+358.j  101.+243.j\n",
      " -108.+558.j  166.+304.j   91.+174.j -269.+463.j   91.+463.j  123.+342.j\n",
      "  -33.+184.j -123.+539.j  146.+517.j   75.+109.j -290.+318.j -296.+435.j\n",
      "  144. +81.j -254.+352.j -133.+360.j   84.+393.j   54.+250.j  -88.+292.j\n",
      " -196.+536.j   14.  +6.j -244.+211.j -346.+761.j  383. +66.j -402.+196.j\n",
      " -389.+295.j  -28. +83.j -255.+170.j -220.+185.j    6.+445.j  -80.+260.j\n",
      "  -69. -12.j -281.+169.j  335.-322.j  157.-435.j  -35.+615.j  816. -70.j\n",
      "  519.-584.j -285. +89.j  500.+451.j  794. +79.j  284.-481.j -133.+196.j\n",
      "  435.+474.j  724.-157.j  125.-361.j -101.+265.j  525.+454.j  727. -56.j\n",
      "   56. +45.j   84.+123.j  502. +79.j  294.+250.j  307.+510.j  523.-136.j\n",
      "   58. -13.j  -68.+677.j  763.+200.j  335.-342.j -373.+380.j  461.+565.j\n",
      "  672.+135.j   69. -68.j  -73.+347.j  332.+447.j  525.+342.j  120.+388.j\n",
      "  207. +22.j  -14.+371.j  212.+334.j  338.+278.j  111.+396.j  251. -36.j\n",
      "   28.+641.j  166.+435.j  480.-151.j -260.+634.j  220.+649.j  524.+296.j\n",
      "  -43.  +3.j -175.+582.j  117.+678.j  551.-150.j -325.+437.j -143.+457.j\n",
      "  505.+247.j -132.+529.j  193.+332.j   64.+469.j  -16.+358.j   81.+465.j\n",
      "   -3.+570.j  129.+114.j -296.+318.j  -32.+768.j  252.+344.j -154. +76.j\n",
      " -341.+226.j  -29.+964.j  244.+338.j   97.-158.j -622.+811.j   86.+762.j\n",
      "  407. -87.j -645.+478.j -278.+656.j  249.+128.j -373.+357.j -303.+500.j\n",
      "    9.+313.j -192.+144.j]\n",
      "21641086\n"
     ]
    }
   ],
   "source": [
    "target_frame = 'Sensors/TI_Radar/Data/Frame_5'\n",
    "\n",
    "frame_data = f[f'{target_frame}/frame_data']\n",
    "time_data = f[f'{target_frame}/Timestamps/nano_seconds']\n",
    "# Sensors/TI_Radar/Data/Frame_99/Timestamps/nano_seconds\n",
    "# Sensors/TI_Radar/Data/Frame_99/Timestamps/seconds\n",
    "\n",
    "# samples x chirps x channels <<<<<<<<<<<<<<<<<<<<<<<<<<<<<<<<<<<<<<<<<<<<<<<<<<<<<<<<<<<<<<<<<<<\n",
    "print(frame_data.dtype)\n",
    "samples = frame_data[:,0,0]\n",
    "print(samples)\n",
    "\n",
    "# Print the actual timestamp values\n",
    "print(time_data[()])\n"
   ]
  },
  {
   "cell_type": "code",
   "execution_count": 10,
   "metadata": {},
   "outputs": [
    {
     "data": {
      "text/plain": [
       "[<matplotlib.lines.Line2D at 0x2af8e26ce30>]"
      ]
     },
     "execution_count": 10,
     "metadata": {},
     "output_type": "execute_result"
    },
    {
     "data": {
      "image/png": "[encoded data removed]",
      "text/plain": [
       "<Figure size 640x480 with 1 Axes>"
      ]
     },
     "metadata": {},
     "output_type": "display_data"
    }
   ],
   "source": [
    "frequency_range = np.fft.fftshift(np.abs(fft(np.real(samples))))\n",
    "plt.figure()\n",
    "plt.plot(frequency_range)"
   ]
  },
  {
   "cell_type": "code",
   "execution_count": 7,
   "metadata": {},
   "outputs": [],
   "source": [
    "#f.close()"
   ]
  }
 ],
 "metadata": {
  "kernelspec": {
   "display_name": "Python 3",
   "language": "python",
   "name": "python3"
  },
  "language_info": {
   "codemirror_mode": {
    "name": "ipython",
    "version": 3
   },
   "file_extension": ".py",
   "mimetype": "text/x-python",
   "name": "python",
   "nbconvert_exporter": "python",
   "pygments_lexer": "ipython3",
   "version": "3.12.2"
  }
 },
 "nbformat": 4,
 "nbformat_minor": 2
}
