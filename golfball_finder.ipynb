{
 "cells": [
  {
   "cell_type": "code",
   "execution_count": null,
   "metadata": {},
   "outputs": [],
   "source": [
    "# This notebook identifies a golfball in radar data\n",
    "# range_doppler_notebook has the basics of how to get the basics (what was I thinking when I wrote this)\n",
    "\n",
    "import h5py\n",
    "import numpy as np\n",
    "import matplotlib.pyplot as plt\n",
    "from scipy.fft import fft, fftshift # Might not need this\n",
    "from radar_ffts import range_doppler_fft, range_doppler_sum\n",
    "from cfar import cfar, clean_cfar\n",
    "from radar_functions import range_doppler_map, get_measurement_parameters, cfar_map, save_range_doppler_map, save_cfar_map, get_data_files\n",
    "\n",
    "\n",
    "c = 299792458 # metres per second - need this"
   ]
  },
  {
   "cell_type": "code",
   "execution_count": null,
   "metadata": {},
   "outputs": [],
   "source": [
    "# Making data lists\n",
    "#moving_back_test = h5py.File('../4022S_data/undergrad_testset/Experiment_moving_target_back_data.hdf5', 'r') # Read in the file\n",
    "#one_meter_centre_test = h5py.File('../4022S_data/undergrad_testset/Experiment_stationary_target_1m_1_data.hdf5','r')\n",
    "#two_meter_centre_test = h5py.File('../4022S_data/undergrad_testset/Experiment_stationary_target_2m_1_data.hdf5','r')\n",
    "\n",
    "golfball_testset1 = '../4022S_data/golfball_testset1/'\n",
    "session2_preface = '../4022S_data/session2/'\n",
    "session3_preface = ['../4022S_data/session3/config1_rob/', '../4022S_data_session3/']\n",
    "session4_preface = ['../4022S_data/session4/calibration/']\n",
    "#tennis_ball_tests = get_data_files(session2_preface) # This works pretty well. Should make new folders for different tests/sets, but this works as a good basis\n",
    "\n",
    "session4 = get_data_files(session4_preface[0])\n",
    "session3 = get_data_files(session3_preface)\n",
    "\n",
    "# There is CERTAINLY a way to do this faster but I dont have internet rn so oh well :/\n",
    "# TODO: Find the right thing to do this\n",
    "#initial_slow_tests = [h5py.File(f'{golfball_testset1}Experiment_2024-09-13_14-13-34_932_initialgolftest_slow.hdf5','r'),\n",
    " #                     h5py.File(f'{golfball_testset1}Experiment_2024-09-13_14-14-00_080_initialgolftest_slow.hdf5','r'),\n",
    "  #                    h5py.File(f'{golfball_testset1}Experiment_2024-09-13_14-14-17_789_initialgolftest_slow.hdf5','r'),\n",
    "   #                   h5py.File(f'{golfball_testset1}Experiment_2024-09-13_14-14-35_509_initialgolftest_slow.hdf5','r'),\n",
    "    #                  h5py.File(f'{golfball_testset1}Experiment_2024-09-13_14-14-50_154_initialgolftest_slow.hdf5','r'),\n",
    "     #                 h5py.File(f'{golfball_testset1}Experiment_2024-09-13_14-15-40_120_initialgolftest_slow.hdf5','r'),\n",
    "      #                h5py.File(f'{golfball_testset1}Experiment_2024-09-13_14-15-55_306_initialgolftest_slow.hdf5','r')]\n",
    "\n",
    "#initial_fast_tests = [h5py.File(f'{golfball_testset1}Experiment_2024-09-13_14-17-13_795_initialgolftest_fast.hdf5'),\n",
    " #                     h5py.File(f'{golfball_testset1}Experiment_2024-09-13_14-18-01_884_initialgolftest_fast.hdf5'),\n",
    "  #                    h5py.File(f'{golfball_testset1}Experiment_2024-09-13_14-18-18_495_initialgolftest_fast.hdf5'),\n",
    "   #                   h5py.File(f'{golfball_testset1}Experiment_2024-09-13_14-18-35_886_initialgolftest_fast.hdf5'),\n",
    "    #                  h5py.File(f'{golfball_testset1}Experiment_2024-09-13_14-19-20_774_initialgolftest_fast.hdf5'),\n",
    "     #                 h5py.File(f'{golfball_testset1}Experiment_2024-09-13_14-19-34_102_initialgolftest_fast.hdf5'),\n",
    "      #                h5py.File(f'{golfball_testset1}Experiment_2024-09-13_14-19-47_106_initialgolftest_fast.hdf5'),]\n",
    "\n",
    "#tennis_ball_tests = [h5py.File(f'{session2_preface}Experiment_2024-09-18_18-16-00_327_tennisball_1.hdf5'),\n",
    " #                    h5py.File(f'{session2_preface}Experiment_2024-09-18_18-16-46_184_tennisball_2.hdf5'),\n",
    "  #                   h5py.File(f'{session2_preface}Experiment_2024-09-18_18-17-22_976_tennisball_3.hdf5')]\n",
    "\n",
    "#tinfoil_ball_tests = [h5py.File(f'{session2_preface}Experiment_2024-09-18_18-19-39_376_tinfoilball_1.hdf5'),\n",
    " #                    h5py.File(f'{session2_preface}Experiment_2024-09-18_18-20-04_723_tinfoilball_2.hdf5'),\n",
    "  #                   h5py.File(f'{session2_preface}Experiment_2024-09-18_18-20-23_989_tinfoilball_3.hdf5'),]\n",
    "\n",
    "#session3_rob_tests = [h5py.File(f'{session3[0]}Experiment_2024-09-21_11-31-15_734_tennis_ball_1.hdf5'),\n",
    " #                     h5py.File(f'{session3[0]}Experiment_2024-09-21_11-31-51_857_tennis_ball_2.hdf5'), # first two tests are tennis balls\n",
    "  #                    h5py.File(f'{session3[0]}Experiment_2024-09-21_11-33-10_975_pinpongball.hdf5'),\n",
    "   #                   h5py.File(f'{session3[0]}Experiment_2024-09-21_11-33-37_284_pinpongball.hdf5'),\n",
    "    #                  h5py.File(f'{session3[0]}Experiment_2024-09-21_11-34-05_212_pinpongball.hdf5')]\n",
    "\n"
   ]
  },
  {
   "cell_type": "code",
   "execution_count": 2,
   "metadata": {},
   "outputs": [
    {
     "ename": "NameError",
     "evalue": "name 'session3' is not defined",
     "output_type": "error",
     "traceback": [
      "\u001b[0;31m---------------------------------------------------------------------------\u001b[0m",
      "\u001b[0;31mNameError\u001b[0m                                 Traceback (most recent call last)",
      "Cell \u001b[0;32mIn[2], line 1\u001b[0m\n\u001b[0;32m----> 1\u001b[0m tests_in_question \u001b[38;5;241m=\u001b[39m \u001b[43msession3\u001b[49m\n\u001b[1;32m      3\u001b[0m freq_slope_const, number_of_samples_per_chirp, sample_rate, Tdata, bandwidth, range_bin_size \u001b[38;5;241m=\u001b[39m get_measurement_parameters(tests_in_question[\u001b[38;5;241m0\u001b[39m])\n\u001b[1;32m      5\u001b[0m \u001b[38;5;66;03m# Need to take all frames of a target and generate all the maps\u001b[39;00m\n",
      "\u001b[0;31mNameError\u001b[0m: name 'session3' is not defined"
     ]
    }
   ],
   "source": [
    "tests_in_question = session3\n",
    "\n",
    "freq_slope_const, number_of_samples_per_chirp, sample_rate, Tdata, bandwidth, range_bin_size = get_measurement_parameters(tests_in_question[0])\n",
    "\n",
    "# Need to take all frames of a target and generate all the maps\n",
    "\n",
    "i = 0\n",
    "test_number = 0\n",
    "\n",
    "for test_being_saved in tests_in_question:\n",
    "    while True:\n",
    "        try:\n",
    "            rd_map = range_doppler_map(test_being_saved, i, range_bin_size, False)\n",
    "            save_range_doppler_map(rd_map, range_bin_size, f'range-doppler map test {test_number} frame {i}')\n",
    "            cf_map = cfar_map(rd_map, False)\n",
    "            save_cfar_map(cf_map, range_bin_size, f'cfar map test {test_number} frame {i}')\n",
    "            i+=1\n",
    "        except: \n",
    "            i = 0\n",
    "            test_number += 1\n",
    "            break"
   ]
  }
 ],
 "metadata": {
  "kernelspec": {
   "display_name": "Python 3",
   "language": "python",
   "name": "python3"
  },
  "language_info": {
   "codemirror_mode": {
    "name": "ipython",
    "version": 3
   },
   "file_extension": ".py",
   "mimetype": "text/x-python",
   "name": "python",
   "nbconvert_exporter": "python",
   "pygments_lexer": "ipython3",
   "version": "3.12.6"
  }
 },
 "nbformat": 4,
 "nbformat_minor": 2
}
