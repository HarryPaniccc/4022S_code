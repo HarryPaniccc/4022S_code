{
 "cells": [
  {
   "cell_type": "code",
   "execution_count": 1,
   "metadata": {},
   "outputs": [],
   "source": [
    "# This notebook identifies a golfball in radar data\n",
    "# range_doppler_notebook has the basics of how to get the basics\n",
    "\n",
    "import h5py\n",
    "import numpy as np\n",
    "import matplotlib.pyplot as plt\n",
    "from scipy.fft import fft, fftshift # Might not need this\n",
    "from radar_ffts import range_doppler_fft, range_doppler_sum\n",
    "from cfar import cfar, clean_cfar\n",
    "\n",
    "c = 299792458 # metres per second - need this"
   ]
  },
  {
   "cell_type": "code",
   "execution_count": 2,
   "metadata": {},
   "outputs": [],
   "source": [
    "# Gets data about the h5py file, and stores it\n",
    "def get_measurement_parameters(hdf5_file_path):\n",
    "    freq_slope_const = hdf5_file_path['Sensors/TI_Radar/Parameters/profileCfg/freqSlopeConst'][()] # In MHz per microsecond\n",
    "    chirp_start_index = hdf5_file_path['Sensors/TI_Radar/Parameters/frameCfg/chirpStartIndex'][()]\n",
    "    chirp_end_index = hdf5_file_path['Sensors/TI_Radar/Parameters/frameCfg/chirpEndIndex'][()]\n",
    "    frame_period = hdf5_file_path['Sensors/TI_Radar/Parameters/frameCfg/framePeriod'][()]\n",
    "    ramp_end_time = hdf5_file_path['Sensors/TI_Radar/Parameters/profileCfg/rampEndTime'][()]\n",
    "    start_freq = hdf5_file_path['Sensors/TI_Radar/Parameters/profileCfg/startFreq'][()]\n",
    "    number_of_samples_per_chirp = hdf5_file_path['Sensors/TI_Radar/Parameters/profileCfg/numAdcSamples'][()]\n",
    "    sample_rate = hdf5_file_path['Sensors/TI_Radar/Parameters/profileCfg/digOutSampleRate'][()] # in ks per second\n",
    "\n",
    "    Tdata = number_of_samples_per_chirp * 1/(sample_rate*1000)\n",
    "    # From this we can find bandwidth with B = Tdata * frequency_slope_constant\n",
    "    bandwidth = Tdata * freq_slope_const * 1e6 * 1e6 # This leaves it in Hz\n",
    "\n",
    "    # From these we know c and can calculate the range bin size\n",
    "    range_bin_size = c/(2*bandwidth)\n",
    "    return freq_slope_const, number_of_samples_per_chirp, sample_rate, Tdata, bandwidth, range_bin_size"
   ]
  },
  {
   "cell_type": "code",
   "execution_count": 3,
   "metadata": {},
   "outputs": [],
   "source": [
    "# Generates a range doppler map of hdf5 radar data. Can make a plot or just the data\n",
    "def range_doppler_map(hdf5_file_path, frame, range_bin_size, make_map):\n",
    "    \n",
    "    frame_data = hdf5_file_path[f'Sensors/TI_Radar/Data/Frame_{frame}/frame_data']\n",
    "    #print(frame_data[0,:,0]) # data is stored as samples x chirps x channels\n",
    "    range_pad = 0\n",
    "    doppler_pad = 0\n",
    "\n",
    "    fftd_frame_data = range_doppler_fft(frame_data, range_pad, doppler_pad)\n",
    "\n",
    "    plotted_fftd_frame_data = range_doppler_sum(fftd_frame_data)\n",
    "\n",
    "    plotted_fftd_frame_data=np.flip(plotted_fftd_frame_data, 0)\n",
    "#    print(plotted_fftd_frame_data.shape)\n",
    "    if make_map:\n",
    "        plt.figure()\n",
    "        plt.imshow(plotted_fftd_frame_data, aspect='auto', cmap='jet')\n",
    "        plt.title('Range-Doppler Map')\n",
    "        plt.xlabel('Doppler')\n",
    "        plt.ylabel('Range')\n",
    "        plt.colorbar(label='Power (dB)')\n",
    "        # Get current y-ticks and labels\n",
    "        y_ticks = plt.gca().get_yticks()\n",
    "        plt.gca().set_yticklabels(y_ticks[::1]*range_bin_size) #TODO: Figure out how to relabel the data, not just the ticks\n",
    "        plt.show()\n",
    "        \n",
    "    return plotted_fftd_frame_data"
   ]
  },
  {
   "cell_type": "code",
   "execution_count": 12,
   "metadata": {},
   "outputs": [],
   "source": [
    "# Making data lists\n",
    "moving_back_test = h5py.File('../4022S_data/undergrad_testset/Experiment_moving_target_back_data.hdf5', 'r') # Read in the file\n",
    "one_meter_centre_test = h5py.File('../4022S_data/undergrad_testset/Experiment_stationary_target_1m_1_data.hdf5','r')\n",
    "two_meter_centre_test = h5py.File('../4022S_data/undergrad_testset/Experiment_stationary_target_2m_1_data.hdf5','r')\n",
    "\n",
    "preface = '../4022S_data/golfball_testset1/'\n",
    "\n",
    "# Im not too sure if this format will work\n",
    "initial_slow_tests = [h5py.File(f'{preface}Experiment_2024-09-13_14-13-34_932_initialgolftest_slow.hdf5','r'),\n",
    "                      h5py.File(f'{preface}Experiment_2024-09-13_14-14-00_080_initialgolftest_slow.hdf5','r'),\n",
    "                      h5py.File(f'{preface}Experiment_2024-09-13_14-14-17_789_initialgolftest_slow.hdf5','r')]\n",
    "\n",
    "initial_fast_test_5 = h5py.File('../4022S_data/golfball_testset1/Experiment_2024-09-13_14-19-20_774_initialgolftest_fast.hdf5')\n"
   ]
  },
  {
   "cell_type": "code",
   "execution_count": null,
   "metadata": {},
   "outputs": [],
   "source": []
  }
 ],
 "metadata": {
  "kernelspec": {
   "display_name": "Python 3",
   "language": "python",
   "name": "python3"
  },
  "language_info": {
   "codemirror_mode": {
    "name": "ipython",
    "version": 3
   },
   "file_extension": ".py",
   "mimetype": "text/x-python",
   "name": "python",
   "nbconvert_exporter": "python",
   "pygments_lexer": "ipython3",
   "version": "3.12.2"
  }
 },
 "nbformat": 4,
 "nbformat_minor": 2
}
